{
 "cells": [
  {
   "attachments": {},
   "cell_type": "markdown",
   "metadata": {},
   "source": [
    "Programming assignment 3: Stance classification"
   ]
  },
  {
   "attachments": {},
   "cell_type": "markdown",
   "metadata": {},
   "source": []
  },
  {
   "cell_type": "markdown",
   "metadata": {},
   "source": [
    "Part 3: Implementing your stance classification system"
   ]
  },
  {
   "cell_type": "code",
   "execution_count": 1,
   "metadata": {},
   "outputs": [],
   "source": [
    "# import needed libraries for all the tasks\n",
    "import pandas as pd \n",
    "import numpy as np\n",
    "import re\n",
    "import matplotlib\n",
    "import matplotlib.pyplot as plt\n",
    "import os\n",
    "import seaborn as sns\n",
    "from sklearn.model_selection import train_test_split\n",
    "from cleantext import clean\n",
    "from string import digits\n",
    "from sklearn.feature_extraction import DictVectorizer\n",
    "from sklearn.feature_extraction.text import TfidfVectorizer\n",
    "from sklearn.linear_model import LogisticRegression\n",
    "from sklearn.metrics import accuracy_score\n",
    "from sklearn.svm  import LinearSVC\n",
    "from sklearn.ensemble import RandomForestClassifier\n",
    "from sklearn.feature_extraction.text import TfidfTransformer\n",
    "from sklearn.metrics import confusion_matrix\n",
    "from sklearn.feature_extraction.text import CountVectorizer\n",
    "from sklearn.model_selection import GridSearchCV\n",
    "\n",
    "# Ignore warnings\n",
    "import warnings\n",
    "warnings.filterwarnings(\"ignore\")"
   ]
  },
  {
   "cell_type": "code",
   "execution_count": 6,
   "metadata": {},
   "outputs": [
    {
     "name": "stdout",
     "output_type": "stream",
     "text": [
      "Length of Train data is  37885\n"
     ]
    },
    {
     "data": {
      "text/html": [
       "<div>\n",
       "<style scoped>\n",
       "    .dataframe tbody tr th:only-of-type {\n",
       "        vertical-align: middle;\n",
       "    }\n",
       "\n",
       "    .dataframe tbody tr th {\n",
       "        vertical-align: top;\n",
       "    }\n",
       "\n",
       "    .dataframe thead th {\n",
       "        text-align: right;\n",
       "    }\n",
       "</style>\n",
       "<table border=\"1\" class=\"dataframe\">\n",
       "  <thead>\n",
       "    <tr style=\"text-align: right;\">\n",
       "      <th></th>\n",
       "      <th>Annotations</th>\n",
       "      <th>comments</th>\n",
       "    </tr>\n",
       "  </thead>\n",
       "  <tbody>\n",
       "    <tr>\n",
       "      <th>0</th>\n",
       "      <td>1/1</td>\n",
       "      <td>I'll only consume if I know what's inside it....</td>\n",
       "    </tr>\n",
       "    <tr>\n",
       "      <th>1</th>\n",
       "      <td>0/-1</td>\n",
       "      <td>It is easier to fool a million people than it...</td>\n",
       "    </tr>\n",
       "    <tr>\n",
       "      <th>2</th>\n",
       "      <td>0/0</td>\n",
       "      <td>NATURAL IMMUNITY  protected us since evolutio...</td>\n",
       "    </tr>\n",
       "    <tr>\n",
       "      <th>3</th>\n",
       "      <td>0/-1</td>\n",
       "      <td>NATURAL IMMUNITY  protected us since evolutio...</td>\n",
       "    </tr>\n",
       "    <tr>\n",
       "      <th>4</th>\n",
       "      <td>1/1/1/-1</td>\n",
       "      <td>The bigest sideffect of vaccines is fewer dea...</td>\n",
       "    </tr>\n",
       "    <tr>\n",
       "      <th>5</th>\n",
       "      <td>1/-1</td>\n",
       "      <td>Unvaccinated people are more likely to become...</td>\n",
       "    </tr>\n",
       "    <tr>\n",
       "      <th>6</th>\n",
       "      <td>1/1</td>\n",
       "      <td>Vaccine takes more than a year to develop.  T...</td>\n",
       "    </tr>\n",
       "    <tr>\n",
       "      <th>7</th>\n",
       "      <td>0/0</td>\n",
       "      <td>YES IM A TRUCKER FROM USA AND I WONT GET VACC...</td>\n",
       "    </tr>\n",
       "    <tr>\n",
       "      <th>8</th>\n",
       "      <td>1/-1</td>\n",
       "      <td>just because I don't have dr in front of my n...</td>\n",
       "    </tr>\n",
       "    <tr>\n",
       "      <th>9</th>\n",
       "      <td>1/1</td>\n",
       "      <td>out of anger People say stupid things man is ...</td>\n",
       "    </tr>\n",
       "    <tr>\n",
       "      <th>10</th>\n",
       "      <td>0/0</td>\n",
       "      <td>... it's been politicized in a way that has co...</td>\n",
       "    </tr>\n",
       "    <tr>\n",
       "      <th>11</th>\n",
       "      <td>0/-1</td>\n",
       "      <td>... sole assessment of prior infections &amp; #Cov...</td>\n",
       "    </tr>\n",
       "    <tr>\n",
       "      <th>12</th>\n",
       "      <td>0/0</td>\n",
       "      <td>... vaccines are safe and effective. Why? Beca...</td>\n",
       "    </tr>\n",
       "    <tr>\n",
       "      <th>13</th>\n",
       "      <td>1/0/-1/0</td>\n",
       "      <td>90% of people that get vaccinated don't get th...</td>\n",
       "    </tr>\n",
       "    <tr>\n",
       "      <th>14</th>\n",
       "      <td>1/1</td>\n",
       "      <td>95.6% effective against the original strain an...</td>\n",
       "    </tr>\n",
       "    <tr>\n",
       "      <th>15</th>\n",
       "      <td>0/-1</td>\n",
       "      <td>A recent survey by the Kaiser Family Foundatio...</td>\n",
       "    </tr>\n",
       "    <tr>\n",
       "      <th>16</th>\n",
       "      <td>0/0</td>\n",
       "      <td>A robber will never say he stole something Don...</td>\n",
       "    </tr>\n",
       "    <tr>\n",
       "      <th>17</th>\n",
       "      <td>0/0</td>\n",
       "      <td>After taking the vaccine this week, OHA said t...</td>\n",
       "    </tr>\n",
       "    <tr>\n",
       "      <th>18</th>\n",
       "      <td>0</td>\n",
       "      <td>All of us connect to each other. Is that via t...</td>\n",
       "    </tr>\n",
       "    <tr>\n",
       "      <th>19</th>\n",
       "      <td>0/0</td>\n",
       "      <td>Always trust a government that gives you free ...</td>\n",
       "    </tr>\n",
       "  </tbody>\n",
       "</table>\n",
       "</div>"
      ],
      "text/plain": [
       "   Annotations                                           comments\n",
       "0          1/1   I'll only consume if I know what's inside it....\n",
       "1         0/-1   It is easier to fool a million people than it...\n",
       "2          0/0   NATURAL IMMUNITY  protected us since evolutio...\n",
       "3         0/-1   NATURAL IMMUNITY  protected us since evolutio...\n",
       "4     1/1/1/-1   The bigest sideffect of vaccines is fewer dea...\n",
       "5         1/-1   Unvaccinated people are more likely to become...\n",
       "6          1/1   Vaccine takes more than a year to develop.  T...\n",
       "7          0/0   YES IM A TRUCKER FROM USA AND I WONT GET VACC...\n",
       "8         1/-1   just because I don't have dr in front of my n...\n",
       "9          1/1   out of anger People say stupid things man is ...\n",
       "10         0/0  ... it's been politicized in a way that has co...\n",
       "11        0/-1  ... sole assessment of prior infections & #Cov...\n",
       "12         0/0  ... vaccines are safe and effective. Why? Beca...\n",
       "13    1/0/-1/0  90% of people that get vaccinated don't get th...\n",
       "14         1/1  95.6% effective against the original strain an...\n",
       "15        0/-1  A recent survey by the Kaiser Family Foundatio...\n",
       "16         0/0  A robber will never say he stole something Don...\n",
       "17         0/0  After taking the vaccine this week, OHA said t...\n",
       "18           0  All of us connect to each other. Is that via t...\n",
       "19         0/0  Always trust a government that gives you free ..."
      ]
     },
     "execution_count": 6,
     "metadata": {},
     "output_type": "execute_result"
    }
   ],
   "source": [
    "#load training data\n",
    "data_train = pd.read_csv(\"./a3_train_final.tsv\", names = [\"Annotations\", \"comments\"], sep = \"\\t\")\n",
    "\n",
    "#check training data\n",
    "print(\"Length of Train data is \", len(data_train))\n",
    "data_train.head(20)\n"
   ]
  },
  {
   "cell_type": "code",
   "execution_count": 7,
   "metadata": {},
   "outputs": [
    {
     "name": "stdout",
     "output_type": "stream",
     "text": [
      "Length of test data is  1524\n"
     ]
    },
    {
     "data": {
      "text/html": [
       "<div>\n",
       "<style scoped>\n",
       "    .dataframe tbody tr th:only-of-type {\n",
       "        vertical-align: middle;\n",
       "    }\n",
       "\n",
       "    .dataframe tbody tr th {\n",
       "        vertical-align: top;\n",
       "    }\n",
       "\n",
       "    .dataframe thead th {\n",
       "        text-align: right;\n",
       "    }\n",
       "</style>\n",
       "<table border=\"1\" class=\"dataframe\">\n",
       "  <thead>\n",
       "    <tr style=\"text-align: right;\">\n",
       "      <th></th>\n",
       "      <th>Annotations</th>\n",
       "      <th>comments</th>\n",
       "    </tr>\n",
       "  </thead>\n",
       "  <tbody>\n",
       "    <tr>\n",
       "      <th>0</th>\n",
       "      <td>1</td>\n",
       "      <td>I did my own research means you looked online ...</td>\n",
       "    </tr>\n",
       "    <tr>\n",
       "      <th>1</th>\n",
       "      <td>1</td>\n",
       "      <td>I don't know what's in it. As if they know wha...</td>\n",
       "    </tr>\n",
       "    <tr>\n",
       "      <th>2</th>\n",
       "      <td>1</td>\n",
       "      <td>In the September time frame, unvaccinated peop...</td>\n",
       "    </tr>\n",
       "    <tr>\n",
       "      <th>3</th>\n",
       "      <td>0</td>\n",
       "      <td>It is a pity that people are dying from the va...</td>\n",
       "    </tr>\n",
       "    <tr>\n",
       "      <th>4</th>\n",
       "      <td>0</td>\n",
       "      <td>No long-term safety data? No problem! - Every ...</td>\n",
       "    </tr>\n",
       "    <tr>\n",
       "      <th>5</th>\n",
       "      <td>0</td>\n",
       "      <td>The protein Spike is in itself harmless they m...</td>\n",
       "    </tr>\n",
       "    <tr>\n",
       "      <th>6</th>\n",
       "      <td>0</td>\n",
       "      <td>We take other risks so taking this one shouldn...</td>\n",
       "    </tr>\n",
       "    <tr>\n",
       "      <th>7</th>\n",
       "      <td>0</td>\n",
       "      <td>anti-vaccer is a weaponized term so these phar...</td>\n",
       "    </tr>\n",
       "    <tr>\n",
       "      <th>8</th>\n",
       "      <td>0</td>\n",
       "      <td>if you don't have the vaccine, you're robbing ...</td>\n",
       "    </tr>\n",
       "    <tr>\n",
       "      <th>9</th>\n",
       "      <td>0</td>\n",
       "      <td>#Poison</td>\n",
       "    </tr>\n",
       "  </tbody>\n",
       "</table>\n",
       "</div>"
      ],
      "text/plain": [
       "   Annotations                                           comments\n",
       "0            1  I did my own research means you looked online ...\n",
       "1            1  I don't know what's in it. As if they know wha...\n",
       "2            1  In the September time frame, unvaccinated peop...\n",
       "3            0  It is a pity that people are dying from the va...\n",
       "4            0  No long-term safety data? No problem! - Every ...\n",
       "5            0  The protein Spike is in itself harmless they m...\n",
       "6            0  We take other risks so taking this one shouldn...\n",
       "7            0  anti-vaccer is a weaponized term so these phar...\n",
       "8            0  if you don't have the vaccine, you're robbing ...\n",
       "9            0                                            #Poison"
      ]
     },
     "execution_count": 7,
     "metadata": {},
     "output_type": "execute_result"
    }
   ],
   "source": [
    "#load test data\n",
    "data_test = pd.read_csv(\"./a3_test.tsv\", names = [\"Annotations\", \"comments\"], sep = \"\\t\")\n",
    "\n",
    "#check the test data\n",
    "print(\"Length of test data is \", len(data_test))\n",
    "data_test.head(10)"
   ]
  },
  {
   "attachments": {},
   "cell_type": "markdown",
   "metadata": {},
   "source": [
    "Function for Cleaning comments"
   ]
  },
  {
   "cell_type": "code",
   "execution_count": 8,
   "metadata": {},
   "outputs": [],
   "source": [
    "def CleanData(comments):\n",
    "\n",
    "    #change all comments to lowercase\n",
    "    comments=comments.lower()\n",
    "\n",
    "    #remove contractions\n",
    "    comments = re.sub(r\"n\\'t\", \" not\", comments)\n",
    "    comments = re.sub(r\"\\'re\", \" are\", comments)\n",
    "    comments = re.sub(r\"\\'s\", \" is\", comments)\n",
    "    comments = re.sub(r\"\\'d\", \" would\", comments)\n",
    "    comments = re.sub(r\"\\'ll\", \" will\", comments)\n",
    "    comments = re.sub(r\"\\'ve\", \" have\", comments)\n",
    "    comments = re.sub(r\"\\'m\", \" am\", comments)\n",
    "\n",
    "    #remove extra spaces\n",
    "    comments = re.sub(r\"\\s+\", \" \", comments)\n",
    "\n",
    "    #remove emoji\n",
    "    emoj = re.compile(\"[\"\n",
    "        u\"\\U0001F600-\\U0001F64F\"  # emoticons\n",
    "        u\"\\U0001F300-\\U0001F5FF\"  # symbols & pictographs\n",
    "        u\"\\U0001F680-\\U0001F6FF\"  # transport & map symbols\n",
    "        u\"\\U0001F1E0-\\U0001F1FF\"  # flags (iOS)\n",
    "        u\"\\U00002500-\\U00002BEF\"  # chinese char\n",
    "        u\"\\U00002702-\\U000027B0\"\n",
    "        u\"\\U00002702-\\U000027B0\"\n",
    "        u\"\\U000024C2-\\U0001F251\"\n",
    "        u\"\\U0001f926-\\U0001f937\"\n",
    "        u\"\\U00010000-\\U0010ffff\"\n",
    "        u\"\\u2640-\\u2642\" \n",
    "        u\"\\u2600-\\u2B55\"\n",
    "        u\"\\u200d\"\n",
    "        u\"\\u23cf\"\n",
    "        u\"\\u23e9\"\n",
    "        u\"\\u231a\"\n",
    "        u\"\\ufe0f\"  # dingbats\n",
    "        u\"\\u3030\"\n",
    "                      \"]+\", re.UNICODE)\n",
    "    comments = re.sub(emoj, '', comments)\n",
    "\n",
    "    #remove extra and unneeded punctuations and signs\n",
    "    comments = re.sub(r\"(@\\[A-Za-z0-9]+)|([^0-9A-Za-z \\t])|(\\w+:\\/\\/\\S+)|^rt|http.+?\" , \" \" , comments)\n",
    "\n",
    "    #remove numbers\n",
    "    num_table = str.maketrans(\" \", \" \", digits)\n",
    "    comments = comments.translate(num_table)\n",
    "\n",
    "    return comments\n"
   ]
  },
  {
   "attachments": {},
   "cell_type": "markdown",
   "metadata": {},
   "source": [
    "Cleaning the comments for training data"
   ]
  },
  {
   "cell_type": "code",
   "execution_count": 9,
   "metadata": {},
   "outputs": [
    {
     "data": {
      "text/html": [
       "<div>\n",
       "<style scoped>\n",
       "    .dataframe tbody tr th:only-of-type {\n",
       "        vertical-align: middle;\n",
       "    }\n",
       "\n",
       "    .dataframe tbody tr th {\n",
       "        vertical-align: top;\n",
       "    }\n",
       "\n",
       "    .dataframe thead th {\n",
       "        text-align: right;\n",
       "    }\n",
       "</style>\n",
       "<table border=\"1\" class=\"dataframe\">\n",
       "  <thead>\n",
       "    <tr style=\"text-align: right;\">\n",
       "      <th></th>\n",
       "      <th>Annotations</th>\n",
       "      <th>comments</th>\n",
       "    </tr>\n",
       "  </thead>\n",
       "  <tbody>\n",
       "    <tr>\n",
       "      <th>0</th>\n",
       "      <td>1/1</td>\n",
       "      <td>i will only consume if i know what is inside ...</td>\n",
       "    </tr>\n",
       "    <tr>\n",
       "      <th>1</th>\n",
       "      <td>0/-1</td>\n",
       "      <td>it is easier to fool a million people than it...</td>\n",
       "    </tr>\n",
       "    <tr>\n",
       "      <th>2</th>\n",
       "      <td>0/0</td>\n",
       "      <td>natural immunity protected us since evolution...</td>\n",
       "    </tr>\n",
       "    <tr>\n",
       "      <th>3</th>\n",
       "      <td>0/-1</td>\n",
       "      <td>natural immunity protected us since evolution...</td>\n",
       "    </tr>\n",
       "    <tr>\n",
       "      <th>4</th>\n",
       "      <td>1/1/1/-1</td>\n",
       "      <td>the bigest sideffect of vaccines is fewer dea...</td>\n",
       "    </tr>\n",
       "    <tr>\n",
       "      <th>...</th>\n",
       "      <td>...</td>\n",
       "      <td>...</td>\n",
       "    </tr>\n",
       "    <tr>\n",
       "      <th>37880</th>\n",
       "      <td>0/0</td>\n",
       "      <td>keep your  i already know  people who have be...</td>\n",
       "    </tr>\n",
       "    <tr>\n",
       "      <th>37881</th>\n",
       "      <td>0/0</td>\n",
       "      <td>just because it is safe  does not mean it do...</td>\n",
       "    </tr>\n",
       "    <tr>\n",
       "      <th>37882</th>\n",
       "      <td>0/0</td>\n",
       "      <td>i took the vaccine because of work  if i do n...</td>\n",
       "    </tr>\n",
       "    <tr>\n",
       "      <th>37883</th>\n",
       "      <td>0/0</td>\n",
       "      <td>there is people already having severe side eff...</td>\n",
       "    </tr>\n",
       "    <tr>\n",
       "      <th>37884</th>\n",
       "      <td>1/1</td>\n",
       "      <td>i my covid vaccines and i am so excited for my...</td>\n",
       "    </tr>\n",
       "  </tbody>\n",
       "</table>\n",
       "<p>37885 rows × 2 columns</p>\n",
       "</div>"
      ],
      "text/plain": [
       "      Annotations                                           comments\n",
       "0             1/1   i will only consume if i know what is inside ...\n",
       "1            0/-1   it is easier to fool a million people than it...\n",
       "2             0/0   natural immunity protected us since evolution...\n",
       "3            0/-1   natural immunity protected us since evolution...\n",
       "4        1/1/1/-1   the bigest sideffect of vaccines is fewer dea...\n",
       "...           ...                                                ...\n",
       "37880         0/0   keep your  i already know  people who have be...\n",
       "37881         0/0    just because it is safe  does not mean it do...\n",
       "37882         0/0   i took the vaccine because of work  if i do n...\n",
       "37883         0/0  there is people already having severe side eff...\n",
       "37884         1/1  i my covid vaccines and i am so excited for my...\n",
       "\n",
       "[37885 rows x 2 columns]"
      ]
     },
     "execution_count": 9,
     "metadata": {},
     "output_type": "execute_result"
    }
   ],
   "source": [
    "#clean the training data\n",
    "data_train[\"Cleaned_comments\"] = data_train[\"comments\"].apply(lambda x: CleanData(x))\n",
    "\n",
    "data_train[\"comments\"] = data_train ['Cleaned_comments']\n",
    "#data_train.drop(columns= [\"Cleaned_comments\"])\n",
    "del data_train['Cleaned_comments']\n",
    "data_train"
   ]
  },
  {
   "attachments": {},
   "cell_type": "markdown",
   "metadata": {},
   "source": [
    "Cleaning the comments for test data"
   ]
  },
  {
   "cell_type": "code",
   "execution_count": 10,
   "metadata": {},
   "outputs": [
    {
     "data": {
      "text/html": [
       "<div>\n",
       "<style scoped>\n",
       "    .dataframe tbody tr th:only-of-type {\n",
       "        vertical-align: middle;\n",
       "    }\n",
       "\n",
       "    .dataframe tbody tr th {\n",
       "        vertical-align: top;\n",
       "    }\n",
       "\n",
       "    .dataframe thead th {\n",
       "        text-align: right;\n",
       "    }\n",
       "</style>\n",
       "<table border=\"1\" class=\"dataframe\">\n",
       "  <thead>\n",
       "    <tr style=\"text-align: right;\">\n",
       "      <th></th>\n",
       "      <th>Annotations</th>\n",
       "      <th>comments</th>\n",
       "    </tr>\n",
       "  </thead>\n",
       "  <tbody>\n",
       "    <tr>\n",
       "      <th>0</th>\n",
       "      <td>1</td>\n",
       "      <td>i did my own research means you looked online ...</td>\n",
       "    </tr>\n",
       "    <tr>\n",
       "      <th>1</th>\n",
       "      <td>1</td>\n",
       "      <td>i do not know what is in it  as if they know w...</td>\n",
       "    </tr>\n",
       "    <tr>\n",
       "      <th>2</th>\n",
       "      <td>1</td>\n",
       "      <td>in the september time frame  unvaccinated peop...</td>\n",
       "    </tr>\n",
       "    <tr>\n",
       "      <th>3</th>\n",
       "      <td>0</td>\n",
       "      <td>it is a pity that people are dying from the va...</td>\n",
       "    </tr>\n",
       "    <tr>\n",
       "      <th>4</th>\n",
       "      <td>0</td>\n",
       "      <td>no long term safety data  no problem    every ...</td>\n",
       "    </tr>\n",
       "    <tr>\n",
       "      <th>...</th>\n",
       "      <td>...</td>\n",
       "      <td>...</td>\n",
       "    </tr>\n",
       "    <tr>\n",
       "      <th>1519</th>\n",
       "      <td>0</td>\n",
       "      <td>covid  is created by demon  earth is turnong ...</td>\n",
       "    </tr>\n",
       "    <tr>\n",
       "      <th>1520</th>\n",
       "      <td>0</td>\n",
       "      <td>medical professionals  that don t even eat he...</td>\n",
       "    </tr>\n",
       "    <tr>\n",
       "      <th>1521</th>\n",
       "      <td>1</td>\n",
       "      <td>no vaccine has ever been proven effective   t...</td>\n",
       "    </tr>\n",
       "    <tr>\n",
       "      <th>1522</th>\n",
       "      <td>0</td>\n",
       "      <td>we cannot have normality until everyone globa...</td>\n",
       "    </tr>\n",
       "    <tr>\n",
       "      <th>1523</th>\n",
       "      <td>1</td>\n",
       "      <td>i d do anything to keep my child safe  except...</td>\n",
       "    </tr>\n",
       "  </tbody>\n",
       "</table>\n",
       "<p>1524 rows × 2 columns</p>\n",
       "</div>"
      ],
      "text/plain": [
       "      Annotations                                           comments\n",
       "0               1  i did my own research means you looked online ...\n",
       "1               1  i do not know what is in it  as if they know w...\n",
       "2               1  in the september time frame  unvaccinated peop...\n",
       "3               0  it is a pity that people are dying from the va...\n",
       "4               0  no long term safety data  no problem    every ...\n",
       "...           ...                                                ...\n",
       "1519            0   covid  is created by demon  earth is turnong ...\n",
       "1520            0   medical professionals  that don t even eat he...\n",
       "1521            1   no vaccine has ever been proven effective   t...\n",
       "1522            0   we cannot have normality until everyone globa...\n",
       "1523            1   i d do anything to keep my child safe  except...\n",
       "\n",
       "[1524 rows x 2 columns]"
      ]
     },
     "execution_count": 10,
     "metadata": {},
     "output_type": "execute_result"
    }
   ],
   "source": [
    "#clean the comments for test data\n",
    "data_test[\"Cleaned_comments\"] = data_test[\"comments\"].apply(lambda x: CleanData(x))\n",
    "\n",
    "data_test[\"comments\"] = data_test ['Cleaned_comments']\n",
    "del data_test['Cleaned_comments']\n",
    "data_test"
   ]
  },
  {
   "attachments": {},
   "cell_type": "markdown",
   "metadata": {},
   "source": [
    "Function for Cleaning Annotations"
   ]
  },
  {
   "cell_type": "code",
   "execution_count": 11,
   "metadata": {},
   "outputs": [],
   "source": [
    "def check_all_equal(chr_list):\n",
    "    return all(x == chr_list[0] for x in chr_list)\n",
    "\n",
    "\n",
    "def filter_data(data_train_df):\n",
    "    row_list_dict = {\"Annotations\": [], \"comments\": []}\n",
    "\n",
    "    for index, row in data_train_df.iterrows():\n",
    "        ann_list = row['Annotations'].split('/')\n",
    "        all_equal_ = check_all_equal(ann_list)\n",
    "        if all_equal_:\n",
    "            rows_dict = row.to_dict()\n",
    "            row_list_dict[\"Annotations\"].append(rows_dict[\"Annotations\"])\n",
    "            row_list_dict[\"comments\"].append(rows_dict[\"comments\"])\n",
    "            #row_list_dict[\"Cleaned_comments\"].append(rows_dict[\"Cleaned_comments\"])\n",
    "\n",
    "    return pd.DataFrame.from_dict(row_list_dict)"
   ]
  },
  {
   "attachments": {},
   "cell_type": "markdown",
   "metadata": {},
   "source": [
    "Cleanin Annotations for training data"
   ]
  },
  {
   "cell_type": "code",
   "execution_count": 12,
   "metadata": {},
   "outputs": [
    {
     "name": "stdout",
     "output_type": "stream",
     "text": [
      "      Annotations                                           comments\n",
      "0               1   i will only consume if i know what is inside ...\n",
      "1               0   natural immunity protected us since evolution...\n",
      "2               1   vaccine takes more than a year to develop  th...\n",
      "3               0   yes im a trucker from usa and i wont get vacc...\n",
      "4               1   out of anger people say stupid things man is ...\n",
      "...           ...                                                ...\n",
      "32090           0   keep your  i already know  people who have be...\n",
      "32091           0    just because it is safe  does not mean it do...\n",
      "32092           0   i took the vaccine because of work  if i do n...\n",
      "32093           0  there is people already having severe side eff...\n",
      "32094           1  i my covid vaccines and i am so excited for my...\n",
      "\n",
      "[32095 rows x 2 columns]\n"
     ]
    }
   ],
   "source": [
    "# Clean Annotations for training data \n",
    "\n",
    "data_train_cl = filter_data(data_train)\n",
    "data_train_cl[\"Annotations\"] = data_train_cl['Annotations'].replace([\"0/0\", \"1/1\"] , [\"0\", \"1\"])\n",
    "print(data_train_cl)"
   ]
  },
  {
   "attachments": {},
   "cell_type": "markdown",
   "metadata": {},
   "source": [
    "Extract Features"
   ]
  },
  {
   "cell_type": "code",
   "execution_count": 13,
   "metadata": {},
   "outputs": [],
   "source": [
    "\n",
    "#convert text documents into a matrix of term frequency-inverse document frequency (TF-IDF) features.\n",
    "\n",
    "vectorizer1 = TfidfVectorizer(sublinear_tf=True, min_df=5, norm='l2', encoding='latin-1', ngram_range=(1, 2), stop_words='english')\n",
    "vectorizer2 = TfidfVectorizer(sublinear_tf=True, min_df=5, norm='l2', encoding='latin-1', ngram_range=(1, 2), stop_words='english')\n",
    "\n",
    "data_train_vec_matrix = vectorizer1.fit_transform(data_train_cl['comments'])\n",
    "data_train_vec_array = data_train_vec_matrix.toarray()\n",
    "\n",
    "vectorizer2 = TfidfVectorizer(vocabulary=vectorizer1.vocabulary_)\n",
    "\n",
    "\n",
    "data_test_vec_matrix = vectorizer2.fit_transform(data_test['comments'])\n",
    "data_test_vec_array = data_test_vec_matrix.toarray()\n",
    "\n",
    "Xtest = data_test_vec_array\n",
    "data_test[\"Annotations\"] = data_test['Annotations'].replace([0, 1] , [\"0\", \"1\"])\n",
    "Ytest = data_test['Annotations']\n"
   ]
  },
  {
   "cell_type": "markdown",
   "metadata": {},
   "source": [
    "Split the data to train and validation set"
   ]
  },
  {
   "cell_type": "code",
   "execution_count": 14,
   "metadata": {},
   "outputs": [
    {
     "name": "stdout",
     "output_type": "stream",
     "text": [
      "Number of comments: 37885\n",
      "Number of cleaned Comments: 32095\n",
      "Size of trianing set: 25676\n",
      "size of validation set: 6419\n"
     ]
    }
   ],
   "source": [
    "# Split the training data to train and validation sets\n",
    "\n",
    "Xtrain, Xval = train_test_split(data_train_vec_array, train_size   = 0.8, random_state = 0)\n",
    "Ytrain, Yval  = train_test_split (data_train_cl ['Annotations'], train_size   = 0.8, random_state = 0)\n",
    "\n",
    "print(\"Number of comments:\", len(data_train))\n",
    "print(\"Number of cleaned Comments:\", len(data_train_cl))\n",
    "print(\"Size of trianing set:\", len(Xtrain))\n",
    "print(\"size of validation set:\", len(Xval))"
   ]
  },
  {
   "attachments": {},
   "cell_type": "markdown",
   "metadata": {},
   "source": [
    "Logistic Regression model with the best hyperparameters"
   ]
  },
  {
   "cell_type": "code",
   "execution_count": 15,
   "metadata": {},
   "outputs": [
    {
     "name": "stdout",
     "output_type": "stream",
     "text": [
      "Logistic Regression_score: 0.757594640909799\n"
     ]
    }
   ],
   "source": [
    "LR_model = LogisticRegression(C=1, penalty=\"l2\", random_state=0)\n",
    "LR_model.fit(Xtrain,Ytrain)\n",
    "guess_annot_LR = LR_model.predict(Xval)\n",
    "LR_model_accuracy = accuracy_score(guess_annot_LR, Yval)\n",
    "print(f\"Logistic Regression_score: {LR_model_accuracy}\")\n"
   ]
  },
  {
   "attachments": {},
   "cell_type": "markdown",
   "metadata": {},
   "source": [
    "Finding the best hyperparameters for Logistic Regression"
   ]
  },
  {
   "cell_type": "code",
   "execution_count": null,
   "metadata": {},
   "outputs": [],
   "source": [
    "\n",
    "param_grid = {'C': [0.1, 1, 10], 'penalty': ['l1', 'l2']}\n",
    "search = GridSearchCV(LogisticRegression(), param_grid)\n",
    "search.fit(Xtrain, Ytrain )\n",
    "print('Logistic Regression parameters: ', search.best_params_)"
   ]
  },
  {
   "attachments": {},
   "cell_type": "markdown",
   "metadata": {},
   "source": [
    "Linear Support Vector Machine Model "
   ]
  },
  {
   "cell_type": "code",
   "execution_count": 56,
   "metadata": {},
   "outputs": [
    {
     "name": "stdout",
     "output_type": "stream",
     "text": [
      "Linear SVC_score: 0.7449758529365945\n"
     ]
    }
   ],
   "source": [
    "LSVC_model = LinearSVC(random_state=0)\n",
    "LSVC_model.fit(Xtrain,Ytrain)\n",
    "guess_annot_LSVC = LSVC_model.predict(Xval)\n",
    "LSVC_model_accuracy = accuracy_score(guess_annot_LSVC, Yval)\n",
    "print(f\"Linear SVC_score: {LSVC_model_accuracy}\")"
   ]
  },
  {
   "attachments": {},
   "cell_type": "markdown",
   "metadata": {},
   "source": [
    "Random Forest Model"
   ]
  },
  {
   "cell_type": "code",
   "execution_count": 57,
   "metadata": {},
   "outputs": [
    {
     "name": "stdout",
     "output_type": "stream",
     "text": [
      "Random For_score: 0.6326530612244898\n"
     ]
    }
   ],
   "source": [
    "RF_model = RandomForestClassifier(n_estimators=200, max_depth=3,  random_state=0)\n",
    "RF_model.fit(Xtrain,Ytrain)\n",
    "guess_annot_RF = RF_model.predict(Xval)\n",
    "RF_model_accuracy = accuracy_score(guess_annot_RF, Yval)\n",
    "print(f\"Random For_score: {RF_model_accuracy}\")"
   ]
  },
  {
   "attachments": {},
   "cell_type": "markdown",
   "metadata": {},
   "source": [
    "Test the model with test dataset"
   ]
  },
  {
   "cell_type": "code",
   "execution_count": 73,
   "metadata": {},
   "outputs": [
    {
     "name": "stdout",
     "output_type": "stream",
     "text": [
      "Logistic Regression  accuracy: 0.8195538057742782\n"
     ]
    },
    {
     "data": {
      "text/html": [
       "<div>\n",
       "<style scoped>\n",
       "    .dataframe tbody tr th:only-of-type {\n",
       "        vertical-align: middle;\n",
       "    }\n",
       "\n",
       "    .dataframe tbody tr th {\n",
       "        vertical-align: top;\n",
       "    }\n",
       "\n",
       "    .dataframe thead th {\n",
       "        text-align: right;\n",
       "    }\n",
       "</style>\n",
       "<table border=\"1\" class=\"dataframe\">\n",
       "  <thead>\n",
       "    <tr style=\"text-align: right;\">\n",
       "      <th></th>\n",
       "      <th>Annotations</th>\n",
       "      <th>comments</th>\n",
       "      <th>prediction</th>\n",
       "    </tr>\n",
       "  </thead>\n",
       "  <tbody>\n",
       "    <tr>\n",
       "      <th>0</th>\n",
       "      <td>1</td>\n",
       "      <td>i did my own research means you looked online ...</td>\n",
       "      <td>1</td>\n",
       "    </tr>\n",
       "    <tr>\n",
       "      <th>1</th>\n",
       "      <td>1</td>\n",
       "      <td>i do not know what is in it  as if they know w...</td>\n",
       "      <td>0</td>\n",
       "    </tr>\n",
       "    <tr>\n",
       "      <th>2</th>\n",
       "      <td>1</td>\n",
       "      <td>in the september time frame  unvaccinated peop...</td>\n",
       "      <td>1</td>\n",
       "    </tr>\n",
       "    <tr>\n",
       "      <th>3</th>\n",
       "      <td>0</td>\n",
       "      <td>it is a pity that people are dying from the va...</td>\n",
       "      <td>0</td>\n",
       "    </tr>\n",
       "    <tr>\n",
       "      <th>4</th>\n",
       "      <td>0</td>\n",
       "      <td>no long term safety data  no problem    every ...</td>\n",
       "      <td>0</td>\n",
       "    </tr>\n",
       "    <tr>\n",
       "      <th>5</th>\n",
       "      <td>0</td>\n",
       "      <td>the protein spike is in itself harmless they m...</td>\n",
       "      <td>0</td>\n",
       "    </tr>\n",
       "    <tr>\n",
       "      <th>6</th>\n",
       "      <td>0</td>\n",
       "      <td>we take other risks so taking this one shouldn...</td>\n",
       "      <td>1</td>\n",
       "    </tr>\n",
       "    <tr>\n",
       "      <th>7</th>\n",
       "      <td>0</td>\n",
       "      <td>anti vaccer is a weaponized term so these phar...</td>\n",
       "      <td>0</td>\n",
       "    </tr>\n",
       "    <tr>\n",
       "      <th>8</th>\n",
       "      <td>0</td>\n",
       "      <td>if you do not have the vaccine  you are robbin...</td>\n",
       "      <td>0</td>\n",
       "    </tr>\n",
       "    <tr>\n",
       "      <th>9</th>\n",
       "      <td>0</td>\n",
       "      <td>poison</td>\n",
       "      <td>0</td>\n",
       "    </tr>\n",
       "  </tbody>\n",
       "</table>\n",
       "</div>"
      ],
      "text/plain": [
       "  Annotations                                           comments prediction\n",
       "0           1  i did my own research means you looked online ...          1\n",
       "1           1  i do not know what is in it  as if they know w...          0\n",
       "2           1  in the september time frame  unvaccinated peop...          1\n",
       "3           0  it is a pity that people are dying from the va...          0\n",
       "4           0  no long term safety data  no problem    every ...          0\n",
       "5           0  the protein spike is in itself harmless they m...          0\n",
       "6           0  we take other risks so taking this one shouldn...          1\n",
       "7           0  anti vaccer is a weaponized term so these phar...          0\n",
       "8           0  if you do not have the vaccine  you are robbin...          0\n",
       "9           0                                             poison          0"
      ]
     },
     "execution_count": 73,
     "metadata": {},
     "output_type": "execute_result"
    }
   ],
   "source": [
    "Yguess = LR_model.predict(Xtest)\n",
    "print('Logistic Regression  accuracy: ' + str(accuracy_score(Ytest,Yguess)))\n",
    "data_test['prediction'] = Yguess.tolist()\n",
    "data_test.head(10)"
   ]
  },
  {
   "attachments": {},
   "cell_type": "markdown",
   "metadata": {},
   "source": [
    "Printing the wrong predicted comments"
   ]
  },
  {
   "cell_type": "code",
   "execution_count": 59,
   "metadata": {},
   "outputs": [
    {
     "data": {
      "text/html": [
       "<div>\n",
       "<style scoped>\n",
       "    .dataframe tbody tr th:only-of-type {\n",
       "        vertical-align: middle;\n",
       "    }\n",
       "\n",
       "    .dataframe tbody tr th {\n",
       "        vertical-align: top;\n",
       "    }\n",
       "\n",
       "    .dataframe thead th {\n",
       "        text-align: right;\n",
       "    }\n",
       "</style>\n",
       "<table border=\"1\" class=\"dataframe\">\n",
       "  <thead>\n",
       "    <tr style=\"text-align: right;\">\n",
       "      <th></th>\n",
       "      <th>comment</th>\n",
       "      <th>prediction</th>\n",
       "      <th>correct</th>\n",
       "    </tr>\n",
       "  </thead>\n",
       "  <tbody>\n",
       "    <tr>\n",
       "      <th>0</th>\n",
       "      <td>i do not know what is in it  as if they know w...</td>\n",
       "      <td>Antivaccine</td>\n",
       "      <td>Provaccine</td>\n",
       "    </tr>\n",
       "    <tr>\n",
       "      <th>1</th>\n",
       "      <td>we take other risks so taking this one shouldn...</td>\n",
       "      <td>Provaccine</td>\n",
       "      <td>Antivaccine</td>\n",
       "    </tr>\n",
       "    <tr>\n",
       "      <th>2</th>\n",
       "      <td>against hospitalization and death  they shou...</td>\n",
       "      <td>Antivaccine</td>\n",
       "      <td>Provaccine</td>\n",
       "    </tr>\n",
       "    <tr>\n",
       "      <th>3</th>\n",
       "      <td>years ago today i took a vaccine that i was l...</td>\n",
       "      <td>Provaccine</td>\n",
       "      <td>Antivaccine</td>\n",
       "    </tr>\n",
       "    <tr>\n",
       "      <th>4</th>\n",
       "      <td>of active cases have mild or no symptoms  w...</td>\n",
       "      <td>Provaccine</td>\n",
       "      <td>Antivaccine</td>\n",
       "    </tr>\n",
       "    <tr>\n",
       "      <th>5</th>\n",
       "      <td>a big thanks to germany  biontech ftw</td>\n",
       "      <td>Antivaccine</td>\n",
       "      <td>Provaccine</td>\n",
       "    </tr>\n",
       "    <tr>\n",
       "      <th>6</th>\n",
       "      <td>a good friend is recovering after covid  havin...</td>\n",
       "      <td>Antivaccine</td>\n",
       "      <td>Provaccine</td>\n",
       "    </tr>\n",
       "    <tr>\n",
       "      <th>7</th>\n",
       "      <td>about  months ago  i had covid   i just got my...</td>\n",
       "      <td>Provaccine</td>\n",
       "      <td>Antivaccine</td>\n",
       "    </tr>\n",
       "    <tr>\n",
       "      <th>8</th>\n",
       "      <td>about a year ago  my wife is unvaxxed friend g...</td>\n",
       "      <td>Antivaccine</td>\n",
       "      <td>Provaccine</td>\n",
       "    </tr>\n",
       "    <tr>\n",
       "      <th>9</th>\n",
       "      <td>after every covid  vaccine dose my eczema got ...</td>\n",
       "      <td>Provaccine</td>\n",
       "      <td>Antivaccine</td>\n",
       "    </tr>\n",
       "  </tbody>\n",
       "</table>\n",
       "</div>"
      ],
      "text/plain": [
       "                                             comment   prediction      correct\n",
       "0  i do not know what is in it  as if they know w...  Antivaccine   Provaccine\n",
       "1  we take other risks so taking this one shouldn...   Provaccine  Antivaccine\n",
       "2    against hospitalization and death  they shou...  Antivaccine   Provaccine\n",
       "3   years ago today i took a vaccine that i was l...   Provaccine  Antivaccine\n",
       "4     of active cases have mild or no symptoms  w...   Provaccine  Antivaccine\n",
       "5         a big thanks to germany  biontech ftw       Antivaccine   Provaccine\n",
       "6  a good friend is recovering after covid  havin...  Antivaccine   Provaccine\n",
       "7  about  months ago  i had covid   i just got my...   Provaccine  Antivaccine\n",
       "8  about a year ago  my wife is unvaxxed friend g...  Antivaccine   Provaccine\n",
       "9  after every covid  vaccine dose my eczema got ...   Provaccine  Antivaccine"
      ]
     },
     "execution_count": 59,
     "metadata": {},
     "output_type": "execute_result"
    }
   ],
   "source": [
    "wrong_prediction = pd.DataFrame({\"comment\": [], \"prediction\": [], \"correct\": []})\n",
    "for index, row in data_test.iterrows():\n",
    "    if row['Annotations'] != row['prediction']:\n",
    "        wrong_prediction = wrong_prediction.append({\n",
    "            \"comment\": row['comments'],\n",
    "            \"prediction\": \"Provaccine\" if row['prediction']==\"1\" else \"Antivaccine\",\n",
    "            \"correct\": \"Provaccine\" if row['Annotations']==\"1\" else \"Antivaccine\",\n",
    "        }, ignore_index=True)\n",
    "wrong_prediction.head(10)\n"
   ]
  },
  {
   "attachments": {},
   "cell_type": "markdown",
   "metadata": {},
   "source": [
    "Confusion Matrix"
   ]
  },
  {
   "cell_type": "code",
   "execution_count": 60,
   "metadata": {},
   "outputs": [
    {
     "data": {
      "image/png": "[encoded data removed]",
      "text/plain": [
       "<Figure size 1800x600 with 2 Axes>"
      ]
     },
     "metadata": {},
     "output_type": "display_data"
    }
   ],
   "source": [
    "C_Matrix = confusion_matrix(Ytest, Yguess, normalize=\"true\")\n",
    "\n",
    "labels = [\"Antivaccine\", \"Provaccine\"]\n",
    "plt.figure(figsize=(18, 6))\n",
    "sns.heatmap(C_Matrix, annot=True, square=True, cmap=\"Reds\", xticklabels=labels, yticklabels=labels)\n",
    "plt.xlabel(\"Predicted label\")\n",
    "plt.ylabel(\"Actual label\")\n",
    "plt.title(\"Confusion matrix\")\n",
    "plt.show()"
   ]
  },
  {
   "attachments": {},
   "cell_type": "markdown",
   "metadata": {},
   "source": [
    "Finding the best features"
   ]
  },
  {
   "cell_type": "code",
   "execution_count": 61,
   "metadata": {},
   "outputs": [
    {
     "name": "stdout",
     "output_type": "stream",
     "text": [
      "          Feature Name  Importance Score\n",
      "0          antivaxxers          2.971925\n",
      "1                today          2.921158\n",
      "2                 soon          2.582341\n",
      "3            available          2.542273\n",
      "4                 anti          2.346805\n",
      "...                ...               ...\n",
      "12378       medication          0.000136\n",
      "12379      blood cells          0.000095\n",
      "12380      unknowingly          0.000087\n",
      "12381      threatening          0.000077\n",
      "12382  watching people          0.000000\n",
      "\n",
      "[12383 rows x 2 columns]\n"
     ]
    }
   ],
   "source": [
    "coef = LR_model.coef_[0]\n",
    "feature_importance = np.abs(coef)\n",
    "feature_names = vectorizer1.get_feature_names_out()\n",
    "sorted_idx = np.argsort(feature_importance)[::-1]\n",
    "df = pd.DataFrame({'Feature Name': feature_names[sorted_idx],'Importance Score': feature_importance[sorted_idx]})\n",
    "print(df)\n"
   ]
  }
 ],
 "metadata": {
  "kernelspec": {
   "display_name": "Python 3",
   "language": "python",
   "name": "python3"
  },
  "language_info": {
   "codemirror_mode": {
    "name": "ipython",
    "version": 3
   },
   "file_extension": ".py",
   "mimetype": "text/x-python",
   "name": "python",
   "nbconvert_exporter": "python",
   "pygments_lexer": "ipython3",
   "version": "3.10.0"
  },
  "orig_nbformat": 4,
  "vscode": {
   "interpreter": {
    "hash": "7230b5a7051959ff11a2accd3c4fdc58a26a68b63b2b2515e318deebc45e0686"
   }
  }
 },
 "nbformat": 4,
 "nbformat_minor": 2
}
